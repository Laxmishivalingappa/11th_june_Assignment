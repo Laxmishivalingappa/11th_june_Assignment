{
 "cells": [
  {
   "cell_type": "code",
   "execution_count": null,
   "id": "ea434010",
   "metadata": {},
   "outputs": [],
   "source": [
    "1 What is a lambda function in Python, and how does it differ from a regular function?\n",
    "ANS:\n",
    "    A lambda function in Python is a small, anonymous function that can have any number of arguments but can only have one expression. Lambda functions are defined using the lambda keyword, followed by a list of arguments (if any) separated by commas, a colon :, and the expression to be evaluated. The result of the expression is automatically returned by the lambda function. Lambda functions are also known as \"anonymous\" functions because they don't have a name like regular functions defined using the def keyword.\n",
    "\n",
    "Syntax of a lambda function:\n",
    "\n",
    "lambda arguments: expression\n"
   ]
  },
  {
   "cell_type": "code",
   "execution_count": null,
   "id": "b3b6e102",
   "metadata": {},
   "outputs": [],
   "source": [
    "Lambda functions are typically used for short, simple functions where defining a regular function using def would be cumbersome and unnecessary. They are often used in situations where a small function is needed for a short period or for specific operations, like in filtering, mapping, and sorting operations.\n",
    "\n",
    "Now, let's discuss the differences between a lambda function and a regular function in Python:\n",
    "\n",
    "Definition Syntax:\n",
    "Lambda Function: Defined using the lambda keyword, followed by a list of arguments and a single expression.\n",
    "Regular Function: Defined using the def keyword, followed by the function name, a list of parameters (if any), a colon :, and the function body consisting of multiple statements (if needed).\n",
    "Name:\n",
    "Lambda Function: Anonymous, meaning they don't have a name. They are typically used for short tasks or where the function is used immediately and not assigned to a variable.\n",
    "Regular Function: Has a name that is used to call the function and can be reused throughout the code.\n",
    "Function Body:\n",
    "Lambda Function: Can only have a single expression, and the result of that expression is returned automatically.\n",
    "Regular Function: Can contain multiple statements, which are executed sequentially. The function can have multiple return statements or no return statement at all, depending on its design.\n",
    "Use Cases:\n",
    "Lambda Function: Ideal for short, one-liner functions that are used for a specific purpose and don't require the complexity of a full-fledged regular function.\n",
    "Regular Function: Suitable for more complex tasks and when the function needs to be used in multiple places throughout the code.\n",
    "Example of a lambda function and a regular function that perform the same operation (squaring a number):\n",
    "\n",
    "Lambda Function:"
   ]
  },
  {
   "cell_type": "code",
   "execution_count": 1,
   "id": "7bdec3ac",
   "metadata": {},
   "outputs": [
    {
     "name": "stdout",
     "output_type": "stream",
     "text": [
      "25\n"
     ]
    }
   ],
   "source": [
    "square_lambda = lambda x: x * x\n",
    "result = square_lambda(5)\n",
    "print(result)  \n"
   ]
  },
  {
   "cell_type": "code",
   "execution_count": 2,
   "id": "1d76c081",
   "metadata": {},
   "outputs": [
    {
     "name": "stdout",
     "output_type": "stream",
     "text": [
      "25\n"
     ]
    }
   ],
   "source": [
    "def square(x):\n",
    "    return x * x\n",
    "\n",
    "result = square(5)\n",
    "print(result)  \n"
   ]
  },
  {
   "cell_type": "code",
   "execution_count": null,
   "id": "1e9c26f7",
   "metadata": {},
   "outputs": [],
   "source": [
    "2 Can a lambda function in Python have multiple arguments? If yes, how can you define and use\n",
    "them?\n",
    "\n",
    "ANS :\n",
    "    Yes, a lambda function in Python can have multiple arguments. Lambda functions can take any number of arguments, just like regular functions, as long as the number of arguments matches the number of parameters specified in the lambda function's definition.\n",
    "\n",
    "To define a lambda function with multiple arguments, you separate the arguments with commas in the argument list, followed by a colon : and the expression to be evaluated. The syntax for a lambda function with multiple arguments is as follows:"
   ]
  },
  {
   "cell_type": "code",
   "execution_count": null,
   "id": "69413f29",
   "metadata": {},
   "outputs": [],
   "source": [
    "lambda arg1, arg2, ..., argN: expression\n",
    "\n",
    "\n",
    "# Lambda function to calculate the sum of two numbers\n",
    "sum_lambda = lambda x, y: x + y\n",
    "\n",
    "# Using the lambda function with two arguments\n",
    "result = sum_lambda(5, 7)\n",
    "print(result)  # Output: 12\n"
   ]
  },
  {
   "cell_type": "code",
   "execution_count": null,
   "id": "1c49f0b0",
   "metadata": {},
   "outputs": [],
   "source": [
    "3 How are lambda functions typically used in Python? Provide an example use case.\n",
    "\n",
    "ANS:\n",
    "    Lambda functions are typically used in Python for short, one-liner tasks or operations where a full-fledged regular function would be overkill or not necessary. They are often employed in functional programming paradigms to perform operations like filtering, mapping, and sorting data. Lambda functions are especially useful when you need a quick, temporary function without having to define a named function using the def keyword.\n",
    "\n",
    "Here are some common use cases for lambda functions in Python:\n",
    "\n",
    "Filtering Data:\n",
    "Lambda functions are frequently used with functions like filter() to filter data based on certain conditions."
   ]
  },
  {
   "cell_type": "code",
   "execution_count": 3,
   "id": "f329e01a",
   "metadata": {},
   "outputs": [
    {
     "name": "stdout",
     "output_type": "stream",
     "text": [
      "[2, 4, 6, 8, 10]\n"
     ]
    }
   ],
   "source": [
    "# Filtering even numbers using a lambda function with filter()\n",
    "numbers = [1, 2, 3, 4, 5, 6, 7, 8, 9, 10]\n",
    "even_numbers = filter(lambda x: x % 2 == 0, numbers)\n",
    "print(list(even_numbers))  # Output: [2, 4, 6, 8, 10]\n"
   ]
  },
  {
   "cell_type": "code",
   "execution_count": null,
   "id": "45fda50a",
   "metadata": {},
   "outputs": [],
   "source": [
    "Mapping Data:\n",
    "Lambda functions are used with functions like map() to transform data based on specific operations."
   ]
  },
  {
   "cell_type": "code",
   "execution_count": 4,
   "id": "e9c60258",
   "metadata": {},
   "outputs": [
    {
     "name": "stdout",
     "output_type": "stream",
     "text": [
      "[1, 4, 9, 16, 25]\n"
     ]
    }
   ],
   "source": [
    "# Mapping data to calculate squares using a lambda function with map()\n",
    "numbers = [1, 2, 3, 4, 5]\n",
    "squares = map(lambda x: x * x, numbers)\n",
    "print(list(squares))  # Output: [1, 4, 9, 16, 25]\n"
   ]
  },
  {
   "cell_type": "code",
   "execution_count": null,
   "id": "503b382e",
   "metadata": {},
   "outputs": [],
   "source": [
    "Sorting Data:\n",
    "Lambda functions can be used with functions like sorted() to customize the sorting criteria."
   ]
  },
  {
   "cell_type": "code",
   "execution_count": 5,
   "id": "4838167a",
   "metadata": {},
   "outputs": [
    {
     "name": "stdout",
     "output_type": "stream",
     "text": [
      "[(3, 2), (1, 5), (4, 7), (2, 9)]\n"
     ]
    }
   ],
   "source": [
    "# Sorting a list of tuples based on the second element using a lambda function\n",
    "data = [(1, 5), (3, 2), (2, 9), (4, 7)]\n",
    "sorted_data = sorted(data, key=lambda x: x[1])\n",
    "print(sorted_data)  # Output: [(3, 2), (1, 5), (4, 7), (2, 9)]\n"
   ]
  },
  {
   "cell_type": "code",
   "execution_count": null,
   "id": "8ed35d9b",
   "metadata": {},
   "outputs": [],
   "source": [
    "Short-lived Callbacks:\n",
    "Lambda functions can be used as short-lived callbacks in other functions."
   ]
  },
  {
   "cell_type": "code",
   "execution_count": 6,
   "id": "ec0a3c1a",
   "metadata": {},
   "outputs": [
    {
     "name": "stdout",
     "output_type": "stream",
     "text": [
      "[1, 8, 27, 64, 125]\n"
     ]
    }
   ],
   "source": [
    "# A function that applies a callback to each element in a list\n",
    "def apply_callback(callback, data):\n",
    "    return [callback(item) for item in data]\n",
    "\n",
    "# Using a lambda function as a short-lived callback to calculate cubes\n",
    "numbers = [1, 2, 3, 4, 5]\n",
    "cubes = apply_callback(lambda x: x**3, numbers)\n",
    "print(cubes)  # Output: [1, 8, 27, 64, 125]\n"
   ]
  },
  {
   "cell_type": "code",
   "execution_count": null,
   "id": "c970dc86",
   "metadata": {},
   "outputs": [],
   "source": [
    "4 What are the advantages and limitations of lambda functions compared to regular functions in\n",
    "Python?\n",
    "\n",
    "ANS:\n",
    "    Lambda functions in Python offer several advantages and limitations compared to regular functions defined using the def keyword. Let's explore these aspects:\n",
    "\n",
    "Advantages of Lambda Functions:\n",
    "\n",
    "Conciseness: Lambda functions allow you to define small, one-liner functions in a compact and concise manner. They are particularly useful for simple tasks that don't require a large function body.\n",
    "\n",
    "No Need for Naming: Lambda functions are anonymous, meaning they don't require a name. This eliminates the need to come up with names for small, short-lived functions that are only used in specific places.\n",
    "\n",
    "Functional Programming: Lambda functions are commonly used in functional programming paradigms, where functions are treated as first-class citizens and can be passed as arguments to other functions, making it easier to write higher-order functions.\n",
    "\n",
    "Readability: In certain cases, using a lambda function directly in a higher-order function (e.g., map(), filter(), sorted()) can improve code readability by avoiding the need to define a separate named function.\n",
    "\n",
    "Limitations of Lambda Functions:\n",
    "\n",
    "Single Expression: Lambda functions can only consist of a single expression. This means they cannot contain multiple statements, loops, or complex logic, limiting their utility for more complex tasks.\n",
    "\n",
    "Lack of Documentation: Lambda functions lack the ability to add docstrings (documentation strings) for explaining the function's purpose, making them less suitable for codebases that require extensive documentation.\n",
    "\n",
    "Limited Readability: While lambda functions can improve readability in certain scenarios, they can also reduce code readability when used for complex or non-trivial operations. Named functions defined with def often provide better readability and maintainability.\n",
    "\n",
    "No Default Arguments: Unlike regular functions, lambda functions cannot have default arguments. This means you must provide values for all the arguments when using a lambda function.\n",
    "\n",
    "Limited Debugging: Lambda functions do not have descriptive names, so when an error occurs, debugging can be more challenging since the error message will reference the lambda function's memory address rather than a meaningful name.\n",
    "\n",
    "Limited Reusability: Due to their anonymous nature, lambda functions are not reusable in other parts of the code, unlike regular functions, which can be called from multiple places.\n",
    "\n",
    "In summary, lambda functions in Python are suitable for quick and short tasks where conciseness and brevity are valued. They are commonly used in functional programming and certain higher-order functions. However, for more complex tasks, code readability, maintainability, and reusability, regular functions defined with def are preferred, as they offer more flexibility and better support for documentation and debugging. It's essential to choose the appropriate tool (lambda functions or regular functions) based on the specific requirements and complexity of the task at hand."
   ]
  },
  {
   "cell_type": "code",
   "execution_count": null,
   "id": "c2f2f2f1",
   "metadata": {},
   "outputs": [],
   "source": [
    "5 Are lambda functions in Python able to access variables defined outside of their own scope?\n",
    "Explain with an example.\n",
    "ANS : Yes, lambda functions in Python have access to variables defined outside their own scope. This behavior is a result of the concept of closures in Python, which allows lambda functions to \"capture\" and remember the values of variables from the surrounding scope where they were defined.\n",
    "\n",
    "Let's illustrate this with an example:"
   ]
  },
  {
   "cell_type": "code",
   "execution_count": 7,
   "id": "eebfe1a9",
   "metadata": {},
   "outputs": [
    {
     "name": "stdout",
     "output_type": "stream",
     "text": [
      "28\n"
     ]
    }
   ],
   "source": [
    "def outer_function(x):\n",
    "    # This is a regular function that defines a lambda function inside it\n",
    "    square_lambda = lambda y: x ** 2 + y\n",
    "    return square_lambda\n",
    "\n",
    "# Call the outer_function with argument 5\n",
    "inner_function = outer_function(5)\n",
    "\n",
    "# Call the inner lambda function with argument 3\n",
    "result = inner_function(3)\n",
    "\n",
    "print(result)  # \n"
   ]
  },
  {
   "cell_type": "code",
   "execution_count": null,
   "id": "d012ecba",
   "metadata": {},
   "outputs": [],
   "source": [
    "6 Write a lambda function to calculate the square of a given number.\n",
    "ANS:\n",
    "    Sure, here's a lambda function to calculate the square of a given number:\n",
    "    \n",
    "    square_lambda = lambda x: x ** 2\n",
    "    \n",
    "    In this lambda function, x is the input argument, and the expression x ** 2 calculates the square of the number x. The lambda function is anonymous and can be used to calculate the square of any given number.\n",
    "\n",
    "You can use this lambda function as follows:\n"
   ]
  },
  {
   "cell_type": "code",
   "execution_count": 8,
   "id": "ee328be0",
   "metadata": {},
   "outputs": [
    {
     "name": "stdout",
     "output_type": "stream",
     "text": [
      "25\n",
      "49\n"
     ]
    }
   ],
   "source": [
    "result = square_lambda(5)\n",
    "print(result)  # Output: 25 (5 ** 2)\n",
    "\n",
    "result = square_lambda(7)\n",
    "print(result)  # Output: 49 (7 ** 2)\n"
   ]
  },
  {
   "cell_type": "code",
   "execution_count": null,
   "id": "6a2db799",
   "metadata": {},
   "outputs": [],
   "source": [
    "The lambda function can be assigned to a variable (square_lambda) and used just like a regular function to calculate the square of different numbers by passing them as arguments to the lambda function."
   ]
  },
  {
   "cell_type": "code",
   "execution_count": null,
   "id": "1082fcbd",
   "metadata": {},
   "outputs": [],
   "source": [
    "7 Create a lambda function to find the maximum value in a list of integers.\n",
    "\n",
    "ANS: Certainly! Here's a lambda function to find the maximum value in a list of integers:\n",
    "    find_max = lambda lst: max(lst)\n",
    "\n",
    "    In this lambda function, lst is the input list of integers, and the max() function is used to find the maximum value in the list.\n",
    "\n",
    "You can use this lambda function as follows:"
   ]
  },
  {
   "cell_type": "code",
   "execution_count": null,
   "id": "2bdaf459",
   "metadata": {},
   "outputs": [],
   "source": [
    "8 Implement a lambda function to filter out all the even numbers from a list of integers.\n",
    "ANS:\n",
    "    Sure! Here's a lambda function to filter out all the even numbers from a list of integers:\n",
    "    \n",
    "    filter_even = lambda lst: list(filter(lambda x: x % 2 == 0, lst))\n",
    "\n",
    "    \n",
    "    In this lambda function, lst is the input list of integers. The filter() function is used to apply the lambda function lambda x: x % 2 == 0 to each element in the list. This lambda function checks if a number is even (x % 2 == 0). The filter() function then returns an iterator with the elements that satisfy the condition. Finally, we convert the iterator back to a list using list() to get the filtered list of even numbers.\n",
    "\n",
    "You can use this lambda function as follows:"
   ]
  },
  {
   "cell_type": "code",
   "execution_count": null,
   "id": "6eefe8c8",
   "metadata": {},
   "outputs": [],
   "source": [
    "9 Write a lambda function to sort a list of strings in ascending order based on the length of each\n",
    "string.\n",
    "ANS: Certainly! Here's a lambda function to sort a list of strings in ascending order based on the length of each string:\n",
    "    \n",
    "    sort_by_length = lambda lst: sorted(lst, key=lambda x: len(x))\n",
    "\n",
    "    \n",
    "    In this lambda function, lst is the input list of strings. The sorted() function is used to sort the list based on the length of each string. The key parameter is set to lambda x: len(x), which calculates the length of each string (x) and uses it as the sorting criterion.\n",
    "\n",
    "You can use this lambda function as follows:"
   ]
  },
  {
   "cell_type": "code",
   "execution_count": null,
   "id": "667c2f19",
   "metadata": {},
   "outputs": [],
   "source": [
    "10 Create a lambda function that takes two lists as input and returns a new list containing the\n",
    "common elements between the two lists.\n",
    "ANS:\n",
    "    Sure! Here's a lambda function that takes two lists as input and returns a new list containing the common elements between the two lists:"
   ]
  },
  {
   "cell_type": "code",
   "execution_count": null,
   "id": "7bb2e9c6",
   "metadata": {},
   "outputs": [],
   "source": [
    "find_common_elements = lambda lst1, lst2: list(filter(lambda x: x in lst1, lst2))\n"
   ]
  },
  {
   "cell_type": "code",
   "execution_count": null,
   "id": "e4ff6a7c",
   "metadata": {},
   "outputs": [],
   "source": [
    "In this lambda function, lst1 and lst2 are the two input lists. The filter() function is used to apply the lambda function lambda x: x in lst1 to each element in lst2. This lambda function checks if an element from lst2 is also present in lst1. The filter() function then returns an iterator with the elements that satisfy the condition. Finally, we convert the iterator back to a list using list() to get the list containing the common elements."
   ]
  },
  {
   "cell_type": "code",
   "execution_count": null,
   "id": "5fb2e938",
   "metadata": {},
   "outputs": [],
   "source": [
    "11 Write a recursive function to calculate the factorial of a given positive integer.\n",
    "ANS:\n",
    "    Sure! A recursive function is a function that calls itself to solve a smaller subproblem. Here's a recursive function in Python to calculate the factorial of a given positive integer:"
   ]
  },
  {
   "cell_type": "code",
   "execution_count": 24,
   "id": "9a6948b1",
   "metadata": {},
   "outputs": [],
   "source": [
    "def factorial(n):\n",
    "    if n == 0 or n == 1:\n",
    "        return 1\n",
    "    else:\n",
    "        return n * factorial(n - 1)\n"
   ]
  },
  {
   "cell_type": "code",
   "execution_count": null,
   "id": "68e76467",
   "metadata": {},
   "outputs": [],
   "source": [
    "In this recursive function, we first check the base case. If the input n is 0 or 1, we return 1 since the factorial of 0 and 1 is 1.\n",
    "\n",
    "For n greater than 1, the function calculates the factorial by multiplying n with the factorial of (n-1). This is the recursive step, where the function calls itself with a smaller value of n to solve a subproblem until it reaches the base case.\n",
    "\n",
    "Let's test the function with some examples:"
   ]
  },
  {
   "cell_type": "code",
   "execution_count": 25,
   "id": "e2d2ae5b",
   "metadata": {},
   "outputs": [
    {
     "name": "stdout",
     "output_type": "stream",
     "text": [
      "120\n",
      "1\n",
      "1\n",
      "3628800\n"
     ]
    }
   ],
   "source": [
    "print(factorial(5))  \n",
    "print(factorial(0))  \n",
    "print(factorial(1))  \n",
    "print(factorial(10)) \n"
   ]
  },
  {
   "cell_type": "code",
   "execution_count": null,
   "id": "62e62ca1",
   "metadata": {},
   "outputs": [],
   "source": [
    "12 Implement a recursive function to compute the nth Fibonacci number.\n",
    "Sure! The Fibonacci sequence is a series of numbers in which each number (after the first two) is the sum of the two preceding ones. Here's a recursive function in Python to compute the nth Fibonacci number:"
   ]
  },
  {
   "cell_type": "code",
   "execution_count": 26,
   "id": "a08da4e6",
   "metadata": {},
   "outputs": [],
   "source": [
    "def fibonacci(n):\n",
    "    if n <= 0:\n",
    "        raise ValueError(\"n must be a positive integer.\")\n",
    "    elif n == 1:\n",
    "        return 0\n",
    "    elif n == 2:\n",
    "        return 1\n",
    "    else:\n",
    "        return fibonacci(n - 1) + fibonacci(n - 2)\n"
   ]
  },
  {
   "cell_type": "code",
   "execution_count": null,
   "id": "90a04197",
   "metadata": {},
   "outputs": [],
   "source": [
    "In this recursive function, we first handle the base cases. If n is less than or equal to 0, we raise a ValueError since the Fibonacci sequence is defined for positive integers. If n is 1, the function returns 0 (the first Fibonacci number), and if n is 2, the function returns 1 (the second Fibonacci number).\n",
    "\n",
    "For n greater than 2, the function calculates the nth Fibonacci number by adding the (n-1)th Fibonacci number with the (n-2)th Fibonacci number. This is the recursive step, where the function calls itself with smaller values of n to solve subproblems until it reaches the base cases.\n",
    "\n",
    "Let's test the function with some examples:"
   ]
  },
  {
   "cell_type": "code",
   "execution_count": 27,
   "id": "19ceee4b",
   "metadata": {},
   "outputs": [
    {
     "name": "stdout",
     "output_type": "stream",
     "text": [
      "0\n",
      "1\n",
      "8\n",
      "34\n",
      "4181\n"
     ]
    }
   ],
   "source": [
    "print(fibonacci(1))   \n",
    "print(fibonacci(2))  \n",
    "print(fibonacci(7))   \n",
    "print(fibonacci(10))  \n",
    "print(fibonacci(20))  \n"
   ]
  },
  {
   "cell_type": "code",
   "execution_count": null,
   "id": "b2edc737",
   "metadata": {},
   "outputs": [],
   "source": [
    "13 Create a recursive function to find the sum of all the elements in a given list.\n",
    "\n",
    "ANS:\n",
    "    Certainly! Here's a recursive function in Python to find the sum of all the elements in a given list:"
   ]
  },
  {
   "cell_type": "code",
   "execution_count": 28,
   "id": "32c3dea0",
   "metadata": {},
   "outputs": [],
   "source": [
    "def sum_list_elements(lst):\n",
    "    if not lst:\n",
    "        return 0\n",
    "    else:\n",
    "        return lst[0] + sum_list_elements(lst[1:])\n"
   ]
  },
  {
   "cell_type": "code",
   "execution_count": null,
   "id": "aaa69136",
   "metadata": {},
   "outputs": [],
   "source": [
    "In this recursive function, we check the base case. If the input list lst is empty (i.e., it has no elements), the function returns 0, representing the sum of an empty list.\n",
    "\n",
    "For lists with elements, the function calculates the sum by adding the first element (lst[0]) with the sum of the remaining elements (lst[1:]). This is the recursive step, where the function calls itself with a smaller list to solve a subproblem until it reaches the base case.\n",
    "\n",
    "Let's test the function with some examples:"
   ]
  },
  {
   "cell_type": "code",
   "execution_count": 29,
   "id": "e5c59bc9",
   "metadata": {},
   "outputs": [
    {
     "name": "stdout",
     "output_type": "stream",
     "text": [
      "0\n",
      "15\n",
      "24\n",
      "30\n"
     ]
    }
   ],
   "source": [
    "print(sum_list_elements([]))                  \n",
    "print(sum_list_elements([1, 2, 3, 4, 5]))     \n",
    "print(sum_list_elements([10, -3, 7, 2, 8]))   \n",
    "print(sum_list_elements([2, 4, 6, 8, 10]))    \n"
   ]
  },
  {
   "cell_type": "code",
   "execution_count": null,
   "id": "14bfbfc7",
   "metadata": {},
   "outputs": [],
   "source": [
    "14 Write a recursive function to determine whether a given string is a palindrome.\n",
    "ANS:\n",
    "    Sure! A palindrome is a word, phrase, number, or other sequence of characters that reads the same forward and backward (ignoring spaces, punctuation, and capitalization). Here's a recursive function in Python to determine whether a given string is a palindrome:"
   ]
  },
  {
   "cell_type": "code",
   "execution_count": 30,
   "id": "670c005f",
   "metadata": {},
   "outputs": [],
   "source": [
    "def is_palindrome(s):\n",
    "    # Remove spaces and convert to lowercase to ignore spaces and capitalization\n",
    "    s = s.replace(\" \", \"\").lower()\n",
    "    \n",
    "    if len(s) <= 1:\n",
    "        return True\n",
    "    else:\n",
    "        return s[0] == s[-1] and is_palindrome(s[1:-1])\n"
   ]
  },
  {
   "cell_type": "code",
   "execution_count": null,
   "id": "77c78084",
   "metadata": {},
   "outputs": [],
   "source": [
    "In this recursive function, we first remove spaces and convert the string to lowercase to ignore spaces and capitalization while checking for a palindrome.\n",
    "\n",
    "For the base case, if the length of the string s is less than or equal to 1, it is considered a palindrome since single characters or empty strings are symmetrical.\n",
    "\n",
    "For longer strings, the function checks if the first character (s[0]) is the same as the last character (s[-1]). If they are the same, the function continues the recursive call with the substring obtained by excluding the first and last characters (s[1:-1]). This process is repeated until the base case is reached.\n",
    "\n",
    "Let's test the function with some examples:"
   ]
  },
  {
   "cell_type": "code",
   "execution_count": 31,
   "id": "7e50c169",
   "metadata": {},
   "outputs": [
    {
     "name": "stdout",
     "output_type": "stream",
     "text": [
      "True\n",
      "True\n",
      "True\n",
      "False\n",
      "True\n"
     ]
    }
   ],
   "source": [
    "print(is_palindrome(\"radar\"))        \n",
    "print(is_palindrome(\"level\"))        \n",
    "print(is_palindrome(\"Madam\"))        \n",
    "print(is_palindrome(\"python\"))       \n",
    "print(is_palindrome(\"A man a plan a canal Panama\"))  #\n"
   ]
  },
  {
   "cell_type": "code",
   "execution_count": null,
   "id": "e1e5e0cb",
   "metadata": {},
   "outputs": [],
   "source": [
    "15 Implement a recursive function to find the greatest common divisor (GCD) of two positive integers.\n",
    "ANS:\n",
    "    Sure! The greatest common divisor (GCD) of two positive integers is the largest positive integer that divides both of them without leaving a remainder. Here's a recursive function in Python to find the GCD of two positive integers using the Euclidean algorithm:"
   ]
  },
  {
   "cell_type": "code",
   "execution_count": 32,
   "id": "753fdea4",
   "metadata": {},
   "outputs": [],
   "source": [
    "def gcd(a, b):\n",
    "    if b == 0:\n",
    "        return a\n",
    "    else:\n",
    "        return gcd(b, a % b)\n"
   ]
  },
  {
   "cell_type": "code",
   "execution_count": null,
   "id": "583eb78e",
   "metadata": {},
   "outputs": [],
   "source": [
    "In this recursive function, we use the Euclidean algorithm, which states that the GCD of two numbers a and b is equal to the GCD of b and the remainder of a divided by b (i.e., a % b). We repeat this process recursively until b becomes 0. When b is 0, the function returns a, which is the greatest common divisor.\n",
    "\n",
    "Let's test the function with some examples:"
   ]
  },
  {
   "cell_type": "code",
   "execution_count": 33,
   "id": "022c51ef",
   "metadata": {},
   "outputs": [
    {
     "name": "stdout",
     "output_type": "stream",
     "text": [
      "12\n",
      "6\n",
      "12\n",
      "1\n",
      "6\n"
     ]
    }
   ],
   "source": [
    "print(gcd(36, 48))   \n",
    "print(gcd(18, 24))   \n",
    "print(gcd(60, 84))  \n",
    "print(gcd(17, 5))    \n",
    "print(gcd(48, 18))   \n"
   ]
  },
  {
   "cell_type": "code",
   "execution_count": null,
   "id": "a6e5fc59",
   "metadata": {},
   "outputs": [],
   "source": []
  }
 ],
 "metadata": {
  "kernelspec": {
   "display_name": "Python 3 (ipykernel)",
   "language": "python",
   "name": "python3"
  },
  "language_info": {
   "codemirror_mode": {
    "name": "ipython",
    "version": 3
   },
   "file_extension": ".py",
   "mimetype": "text/x-python",
   "name": "python",
   "nbconvert_exporter": "python",
   "pygments_lexer": "ipython3",
   "version": "3.10.9"
  }
 },
 "nbformat": 4,
 "nbformat_minor": 5
}
